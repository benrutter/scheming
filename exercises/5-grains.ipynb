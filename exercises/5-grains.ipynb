{
 "cells": [
  {
   "cell_type": "markdown",
   "id": "97ea4468",
   "metadata": {},
   "source": [
    "# 5. Grains\n",
    "\n",
    "Calculate the number of grains of wheat on a chessboard given that the number on each square doubles.\n",
    "\n",
    "There once was a wise servant who saved the life of a prince. The king promised to pay whatever the servant could dream up. Knowing that the king loved chess, the servant told the king he would like to have grains of wheat. One grain on the first square of a chess board, with the number of grains doubling on each successive square.\n",
    "\n",
    "There are 64 squares on a chessboard (where square 1 has one grain, square 2 has two grains, and so on).\n",
    "\n",
    "Write code that shows:\n",
    "\n",
    "    how many grains were on a given square, and\n",
    "    the total number of grains on the chessboard\n",
    "\n"
   ]
  },
  {
   "cell_type": "code",
   "execution_count": 41,
   "id": "1068ca8d",
   "metadata": {},
   "outputs": [],
   "source": [
    "; given a square on a chessboard, how much rice?\n",
    "(define (square n)\n",
    "  (cond ((eq? n 1) 1)\n",
    "        ((< n 1) (raise \"too small!\"))\n",
    "        ((> n 64) (raise \"too big!\"))\n",
    "        (else (expt 2 (- n 1)))))\n",
    "\n",
    "; given a square, how much so far?\n",
    "(define (squaret n)\n",
    "  (cond ((eq? n 1) 1)\n",
    "        (else (+ (square n) (squaret (- n 1))))))\n",
    "\n",
    "; how much by the end?\n",
    "(define total\n",
    "  (squaret 64))"
   ]
  }
 ],
 "metadata": {
  "kernelspec": {
   "display_name": "Calysto Scheme 3",
   "language": "scheme",
   "name": "calysto_scheme"
  },
  "language_info": {
   "codemirror_mode": {
    "name": "scheme"
   },
   "mimetype": "text/x-scheme",
   "name": "scheme",
   "pygments_lexer": "scheme"
  }
 },
 "nbformat": 4,
 "nbformat_minor": 5
}
