{
 "cells": [
  {
   "cell_type": "markdown",
   "id": "5a85a0ea",
   "metadata": {},
   "source": [
    "# 8. Acronym\n",
    "\n",
    "Convert a phrase to its acronym.\n",
    "\n",
    "Techies love their TLA (Three Letter Acronyms)!\n",
    "\n",
    "Help generate some jargon by writing a program that converts a long name like Portable Network Graphics to its acronym (PNG)."
   ]
  },
  {
   "cell_type": "code",
   "execution_count": 1,
   "id": "8e241d64",
   "metadata": {},
   "outputs": [],
   "source": [
    "; hmm, let's start with just if something's a delimiter\n",
    "(define (is-delimiter char)\n",
    "  (cond ((eq? #\\space char) #t)\n",
    "        ((eq? #\\- char) #t)\n",
    "        ((eq? #\\_ char) #t)\n",
    "        ((eq? #\\. char) #t)\n",
    "        (else #f)))"
   ]
  },
  {
   "cell_type": "code",
   "execution_count": 2,
   "id": "643aece1",
   "metadata": {},
   "outputs": [],
   "source": [
    "; now if the next character in a list is a delimiter\n",
    "(define (next-char-is-delimiter char-list)\n",
    "  (is-delimiter (car char-list)))"
   ]
  },
  {
   "cell_type": "code",
   "execution_count": 3,
   "id": "bce2bbbd",
   "metadata": {},
   "outputs": [],
   "source": [
    "; this'll make things easier to read\n",
    "(define (append-car-into lst-with-car lst)\n",
    "  (append lst (list (car lst-with-car))))"
   ]
  },
  {
   "cell_type": "code",
   "execution_count": 4,
   "id": "e51daecf",
   "metadata": {},
   "outputs": [
    {
     "data": {
      "text/plain": [
       "(4 4 4 1)"
      ]
     },
     "execution_count": 4,
     "metadata": {},
     "output_type": "execute_result"
    }
   ],
   "source": [
    "(append-car-into '(1 2 3) '(4 4 4))"
   ]
  },
  {
   "cell_type": "code",
   "execution_count": 5,
   "id": "cc540863",
   "metadata": {},
   "outputs": [],
   "source": [
    "; think we have the helper functions to build our recurse algorithm\n",
    "(define (after-del-chars chars accumulator capture)\n",
    "  (cond ((eq? chars '()) accumulator) ; base case, our list is empty\n",
    "        ; lets check this character isn't also a delimiter, then we'll need to the next\n",
    "        ((is-delimiter (car chars)) (after-del-chars (cdr chars) accumulator #t))\n",
    "        ; otherwise, if \"capture\" is true, we'll recur but with the accumulator having the car in\n",
    "        (capture (after-del-chars (cdr chars) (append-car-into chars accumulator) #f))\n",
    "        ; else, recur with \"next-char-is-delimiter\" as whether we capture on the next step\n",
    "        (else (after-del-chars (cdr chars) accumulator (next-char-is-delimiter chars)))))"
   ]
  },
  {
   "cell_type": "code",
   "execution_count": 6,
   "id": "3886c145",
   "metadata": {},
   "outputs": [],
   "source": [
    "(define (acronym phrase)\n",
    "  (list->string (after-del-chars (string->list phrase) '() #t)))"
   ]
  },
  {
   "cell_type": "code",
   "execution_count": 7,
   "id": "a5c6726d",
   "metadata": {},
   "outputs": [
    {
     "data": {
      "text/plain": [
       "\"PNG\""
      ]
     },
     "execution_count": 7,
     "metadata": {},
     "output_type": "execute_result"
    }
   ],
   "source": [
    "(acronym \"Portable Network Graphics\")"
   ]
  },
  {
   "cell_type": "code",
   "execution_count": 8,
   "id": "82241532",
   "metadata": {},
   "outputs": [
    {
     "data": {
      "text/plain": [
       "\"TLA\""
      ]
     },
     "execution_count": 8,
     "metadata": {},
     "output_type": "execute_result"
    }
   ],
   "source": [
    "(acronym \"Three Letter Acronyms\")"
   ]
  }
 ],
 "metadata": {
  "kernelspec": {
   "display_name": "Calysto Scheme 3",
   "language": "scheme",
   "name": "calysto_scheme"
  },
  "language_info": {
   "codemirror_mode": {
    "name": "scheme"
   },
   "mimetype": "text/x-scheme",
   "name": "scheme",
   "pygments_lexer": "scheme"
  }
 },
 "nbformat": 4,
 "nbformat_minor": 5
}
