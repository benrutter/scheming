{
 "cells": [
  {
   "cell_type": "markdown",
   "id": "a0f9803c",
   "metadata": {},
   "source": [
    "# 10. Pascal's Triangle\n",
    "\n",
    "Compute Pascal's triangle up to a given number of rows.\n",
    "\n",
    "In Pascal's Triangle each number is computed by adding the numbers to the right and left of the current position in the previous row.\n",
    "\n",
    "```\n",
    "    1\n",
    "   1 1\n",
    "  1 2 1\n",
    " 1 3 3 1\n",
    "1 4 6 4 1\n",
    "# ... etc\n",
    "```"
   ]
  },
  {
   "cell_type": "code",
   "execution_count": 7,
   "id": "997b6ffb",
   "metadata": {},
   "outputs": [],
   "source": [
    "; I guess the neatest output is a list of results?\n",
    "; let's start with next row, based on previous?\n",
    "; probably easiest to start by padding the row to have zeros either side\n",
    "(define (pad row)\n",
    "  (append (append '(0) row) '(0)))"
   ]
  },
  {
   "cell_type": "code",
   "execution_count": 8,
   "id": "da2a1369",
   "metadata": {},
   "outputs": [
    {
     "data": {
      "text/plain": [
       "(0 2 3 0)"
      ]
     },
     "execution_count": 8,
     "metadata": {},
     "output_type": "execute_result"
    }
   ],
   "source": [
    "(pad '(2 3))"
   ]
  },
  {
   "cell_type": "code",
   "execution_count": 42,
   "id": "7fde5dc2",
   "metadata": {},
   "outputs": [],
   "source": [
    "; to make the next function semi-non awful to read\n",
    "; we'll make a function to sum the first to elements of a list\n",
    "; and return the value as a list\n",
    "(define (sum-first-two nums)\n",
    "  (list\n",
    "   (+ (car nums) (car (cdr nums)))))"
   ]
  },
  {
   "cell_type": "code",
   "execution_count": 67,
   "id": "0ef52bb9",
   "metadata": {},
   "outputs": [
    {
     "data": {
      "text/plain": [
       "(1)"
      ]
     },
     "execution_count": 67,
     "metadata": {},
     "output_type": "execute_result"
    }
   ],
   "source": [
    "(sum-first-two '(1 0))"
   ]
  },
  {
   "cell_type": "code",
   "execution_count": 65,
   "id": "35695fe0",
   "metadata": {},
   "outputs": [],
   "source": [
    "; ok, now I think we can recur along a padded version of the row?\n",
    "(define (sums to-sum accumulator)\n",
    "        ; if it's the last, we'll return the accumulator\n",
    "  (cond ((<= (length to-sum) 1) accumulator)\n",
    "        ; otherwise, we'll append the sum of this and the next item into the accumulator\n",
    "        (else (sums (cdr to-sum) (append (sum-first-two to-sum) accumulator)))))"
   ]
  },
  {
   "cell_type": "code",
   "execution_count": 66,
   "id": "c8e47e2a",
   "metadata": {},
   "outputs": [
    {
     "data": {
      "text/plain": [
       "(1 3 3 1)"
      ]
     },
     "execution_count": 66,
     "metadata": {},
     "output_type": "execute_result"
    }
   ],
   "source": [
    "(sums '(0 1 2 1 0) '())"
   ]
  },
  {
   "cell_type": "code",
   "execution_count": 88,
   "id": "c9411687",
   "metadata": {},
   "outputs": [],
   "source": [
    "; now we can make a row-from-last function\n",
    "(define (row-from-last last)\n",
    "  (list (sums (pad last) '())))"
   ]
  },
  {
   "cell_type": "code",
   "execution_count": 89,
   "id": "0604f528",
   "metadata": {},
   "outputs": [
    {
     "data": {
      "text/plain": [
       "((1 4 6 4 1))"
      ]
     },
     "execution_count": 89,
     "metadata": {},
     "output_type": "execute_result"
    }
   ],
   "source": [
    "(row-from-last '(1 3 3 1))"
   ]
  },
  {
   "cell_type": "code",
   "execution_count": 130,
   "id": "e50cfec7",
   "metadata": {},
   "outputs": [],
   "source": [
    "; so now, it should be pretty easy to do a triangle from n function\n",
    "; we'll start with an accumulator, which needs to be set to a list of empty list to start\n",
    "(define (pascals-triangle-acc n accumulator)\n",
    "  (cond ((<= n 0) accumulator)\n",
    "        (else \n",
    "         (pascals-triangle-acc (- n 1) (append (row-from-last (car accumulator)) accumulator)))))"
   ]
  },
  {
   "cell_type": "code",
   "execution_count": 129,
   "id": "e689ee33",
   "metadata": {},
   "outputs": [
    {
     "data": {
      "text/plain": [
       "((1 5 10 10 5 1) (1 4 6 4 1) (1 3 3 1) (1 2 1) (1 1) (1))"
      ]
     },
     "execution_count": 129,
     "metadata": {},
     "output_type": "execute_result"
    }
   ],
   "source": [
    "(pascals-triangle-acc 5 (list '(1)))"
   ]
  },
  {
   "cell_type": "code",
   "execution_count": 149,
   "id": "87d21083",
   "metadata": {},
   "outputs": [],
   "source": [
    "; that works, except the triangle will be backwards\n",
    "; n is always one too high\n",
    "; and the accumulator might as well be set for us\n",
    "; since it can only really be one value\n",
    "; plus if it's zero, we'll return an empty list\n",
    "(define (pascals-triangle n)\n",
    "  (cond ((<= n 0) '())\n",
    "        (else (reverse (pascals-triangle-acc (- n 1) (list '(1)))))))"
   ]
  },
  {
   "cell_type": "code",
   "execution_count": 150,
   "id": "c0edc27a",
   "metadata": {},
   "outputs": [
    {
     "data": {
      "text/plain": [
       "((1) (1 1) (1 2 1) (1 3 3 1) (1 4 6 4 1))"
      ]
     },
     "execution_count": 150,
     "metadata": {},
     "output_type": "execute_result"
    }
   ],
   "source": [
    "(pascals-triangle 5)"
   ]
  },
  {
   "cell_type": "code",
   "execution_count": 151,
   "id": "38398cfd",
   "metadata": {},
   "outputs": [
    {
     "data": {
      "text/plain": [
       "((1) (1 1) (1 2 1) (1 3 3 1) (1 4 6 4 1) (1 5 10 10 5 1) (1 6 15 20 15 6 1) (1 7 21 35 35 21 7 1) (1 8 28 56 70 56 28 8 1) (1 9 36 84 126 126 84 36 9 1))"
      ]
     },
     "execution_count": 151,
     "metadata": {},
     "output_type": "execute_result"
    }
   ],
   "source": [
    "(pascals-triangle 10)"
   ]
  },
  {
   "cell_type": "code",
   "execution_count": 152,
   "id": "05e5b368",
   "metadata": {},
   "outputs": [
    {
     "data": {
      "text/plain": [
       "()"
      ]
     },
     "execution_count": 152,
     "metadata": {},
     "output_type": "execute_result"
    }
   ],
   "source": [
    "(pascals-triangle 0)"
   ]
  }
 ],
 "metadata": {
  "kernelspec": {
   "display_name": "Calysto Scheme 3",
   "language": "scheme",
   "name": "calysto_scheme"
  },
  "language_info": {
   "codemirror_mode": {
    "name": "scheme"
   },
   "mimetype": "text/x-scheme",
   "name": "scheme",
   "pygments_lexer": "scheme"
  }
 },
 "nbformat": 4,
 "nbformat_minor": 5
}
