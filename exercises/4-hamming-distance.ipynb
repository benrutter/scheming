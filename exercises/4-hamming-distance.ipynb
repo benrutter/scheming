{
 "cells": [
  {
   "cell_type": "markdown",
   "id": "79b4af32",
   "metadata": {},
   "source": [
    "# 4. Hamming Distance\n",
    "\n",
    "Calculate the Hamming Distance between two DNA strands.\n",
    "\n",
    "Your body is made up of cells that contain DNA. Those cells regularly wear out and need replacing, which they achieve by dividing into daughter cells. In fact, the average human body experiences about 10 quadrillion cell divisions in a lifetime!\n",
    "\n",
    "When cells divide, their DNA replicates too. Sometimes during this process mistakes happen and single pieces of DNA get encoded with the incorrect information. If we compare two strands of DNA and count the differences between them we can see how many mistakes occurred. This is known as the \"Hamming Distance\".\n",
    "\n",
    "We read DNA using the letters C,A,G and T. Two strands might look like this:\n",
    "\n",
    "```\n",
    "GAGCCTACTAACGGGAT\n",
    "CATCGTAATGACGGCCT\n",
    "^ ^ ^  ^ ^    ^^\n",
    "```\n",
    "\n",
    "They have 7 differences, and therefore the Hamming Distance is 7.\n",
    "\n",
    "The Hamming Distance is useful for lots of things in science, not just biology, so it's a nice phrase to be familiar with :)\n",
    "\n",
    "The Hamming distance is only defined for sequences of equal length, so an attempt to calculate it between sequences of different lengths should not work. The general handling of this situation (e.g., raising an exception vs returning a special value) may differ between languages."
   ]
  },
  {
   "cell_type": "code",
   "execution_count": 1,
   "id": "3332bc25",
   "metadata": {},
   "outputs": [],
   "source": [
    "; let's start with a function to return 1 if different, otherwise 0\n",
    "(define (difference x y)\n",
    "  (cond ((eq? x y) 0)\n",
    "        (else 1)))"
   ]
  },
  {
   "cell_type": "code",
   "execution_count": 2,
   "id": "cfd5394c",
   "metadata": {},
   "outputs": [],
   "source": [
    "; now we'll make a function to map over two strings and sum functions\n",
    "(define (difference-count dna another_dna)\n",
    "  (sum (map difference\n",
    "    (string->list dna)\n",
    "    (string->list another_dna))))"
   ]
  },
  {
   "cell_type": "code",
   "execution_count": 3,
   "id": "3782ebf1",
   "metadata": {},
   "outputs": [],
   "source": [
    "; let's raise an error if they're difference lengths\n",
    "(define (hamming-distance dna another_dna)\n",
    "  (cond ((eq? (string-length dna)\n",
    "              (string-length another_dna))\n",
    "              (difference-count dna another_dna))\n",
    "        (else (raise \"yikes!\"))))"
   ]
  },
  {
   "cell_type": "code",
   "execution_count": 4,
   "id": "26f38509",
   "metadata": {},
   "outputs": [
    {
     "data": {
      "text/plain": [
       "1"
      ]
     },
     "execution_count": 4,
     "metadata": {},
     "output_type": "execute_result"
    }
   ],
   "source": [
    "(hamming-distance \"mellow\" \"yellow\") ; should return one"
   ]
  },
  {
   "cell_type": "code",
   "execution_count": 5,
   "id": "1e57b4f1",
   "metadata": {},
   "outputs": [
    {
     "name": "stderr",
     "output_type": "stream",
     "text": [
      "\u001b[0;31m\n",
      "Traceback (most recent call last):\n",
      "  File \"In [5]\", line 1, col 1, in 'hamming-distance'\n",
      "  File \"In [3]\", line 6, col 15\n",
      "Exception: yikes!\n",
      "\n",
      "\u001b[0m"
     ]
    }
   ],
   "source": [
    "(hamming-distance \"jello\" \"yellow\") ; should raise an error"
   ]
  }
 ],
 "metadata": {
  "kernelspec": {
   "display_name": "Calysto Scheme 3",
   "language": "scheme",
   "name": "calysto_scheme"
  },
  "language_info": {
   "codemirror_mode": {
    "name": "scheme"
   },
   "mimetype": "text/x-scheme",
   "name": "scheme",
   "pygments_lexer": "scheme"
  }
 },
 "nbformat": 4,
 "nbformat_minor": 5
}
