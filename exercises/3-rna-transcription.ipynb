{
 "cells": [
  {
   "cell_type": "markdown",
   "id": "7f44feca",
   "metadata": {},
   "source": [
    "## 3. RNA Transcription\n",
    "\n",
    "**given a strand, return its RNA complement**\n",
    "\n",
    "The four nucleotides found in DNA are adenine (A), cytosine (C), guanine (G) and thymine (T).\n",
    "\n",
    "The four nucleotides found in RNA are adenine (A), cytosine (C), guanine (G) and uracil (U).\n",
    "\n",
    "Given a DNA strand, its transcribed RNA strand is formed by replacing each nucleotide with its complement:\n",
    "\n",
    "    G -> C\n",
    "    C -> G\n",
    "    T -> A\n",
    "    A -> U\n"
   ]
  },
  {
   "cell_type": "code",
   "execution_count": 111,
   "id": "1d83d250",
   "metadata": {},
   "outputs": [],
   "source": [
    "; first lets make a function to replace a single letter\n",
    "(define (strand->rna strand)\n",
    "  (cond ((eq? strand #\\G) #\\C)\n",
    "        ((eq? strand #\\C) #\\G)\n",
    "        ((eq? strand #\\T) #\\A)\n",
    "        ((eq? strand #\\A) #\\U)\n",
    "        (else #\\X)))"
   ]
  },
  {
   "cell_type": "code",
   "execution_count": 112,
   "id": "6e705a11",
   "metadata": {},
   "outputs": [],
   "source": [
    "; now a function to convert into a list, map function and put back into string\n",
    "(define (dna->rna dna)\n",
    "  (list->string\n",
    "   (map strand->rna (string->list dna))))"
   ]
  },
  {
   "cell_type": "code",
   "execution_count": 113,
   "id": "64bbf735",
   "metadata": {},
   "outputs": [
    {
     "data": {
      "text/plain": [
       "\"GGACCAUUGX\""
      ]
     },
     "execution_count": 113,
     "metadata": {},
     "output_type": "execute_result"
    }
   ],
   "source": [
    "(dna->rna \"CCTGGTAACU\")"
   ]
  }
 ],
 "metadata": {
  "kernelspec": {
   "display_name": "Calysto Scheme 3",
   "language": "scheme",
   "name": "calysto_scheme"
  },
  "language_info": {
   "codemirror_mode": {
    "name": "scheme"
   },
   "mimetype": "text/x-scheme",
   "name": "scheme",
   "pygments_lexer": "scheme"
  }
 },
 "nbformat": 4,
 "nbformat_minor": 5
}
