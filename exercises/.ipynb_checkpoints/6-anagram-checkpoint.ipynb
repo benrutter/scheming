{
 "cells": [
  {
   "cell_type": "markdown",
   "id": "e9ad4c60",
   "metadata": {},
   "source": [
    "# 6. Anagram\n",
    "\n",
    "An anagram is a rearrangement of letters to form a new word. Given a word and a list of candidates, select the anagrams of the given word.\n",
    "\n",
    "Given \"listen\" and a list of candidates like \"enlists\" \"google\" \"inlets\" \"banana\" the program should return \"inlets\"."
   ]
  },
  {
   "cell_type": "code",
   "execution_count": 15,
   "id": "039c4089",
   "metadata": {},
   "outputs": [],
   "source": [
    "; let's make a function to see if two equal sized lists are the same\n",
    "(define (listeq? x y)\n",
    "  (cond ((eq? x y) #t)                           ; they're both empty, return true\n",
    "        ((not (eq? (car x) (car y))) #f)         ; the cars don't match, return false\n",
    "        (else (listeq? (cdr x) (cdr y)))))    ; otherwise recur on cdr"
   ]
  },
  {
   "cell_type": "code",
   "execution_count": 16,
   "id": "5f50ebbf",
   "metadata": {},
   "outputs": [],
   "source": [
    "; then an anagram? x y function which converts strings to lists, sorts, then checks if match\n",
    "(define (anagram? x y)\n",
    "  (listeq? (sort < (string->list x))\n",
    "       (sort < (string->list y))))"
   ]
  },
  {
   "cell_type": "code",
   "execution_count": 32,
   "id": "1aa417fe",
   "metadata": {},
   "outputs": [],
   "source": [
    "; now we need to return the item in a list that is true\n",
    "(define (anagram target words)\n",
    "  (cond ((anagram? target (car words)) (car words))\n",
    "        (else (anagram target (cdr words)))))"
   ]
  },
  {
   "cell_type": "code",
   "execution_count": 34,
   "id": "f666275c",
   "metadata": {},
   "outputs": [
    {
     "data": {
      "text/plain": [
       "\"inlets\""
      ]
     },
     "execution_count": 34,
     "metadata": {},
     "output_type": "execute_result"
    }
   ],
   "source": [
    "(anagram \"listen\" '(\"enlists\" \"google\" \"inlets\" \"banana\"))"
   ]
  }
 ],
 "metadata": {
  "kernelspec": {
   "display_name": "Calysto Scheme 3",
   "language": "scheme",
   "name": "calysto_scheme"
  },
  "language_info": {
   "codemirror_mode": {
    "name": "scheme"
   },
   "mimetype": "text/x-scheme",
   "name": "scheme",
   "pygments_lexer": "scheme"
  }
 },
 "nbformat": 4,
 "nbformat_minor": 5
}
