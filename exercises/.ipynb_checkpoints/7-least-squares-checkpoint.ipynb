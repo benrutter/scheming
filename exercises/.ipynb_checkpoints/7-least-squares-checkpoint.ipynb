{
 "cells": [
  {
   "cell_type": "markdown",
   "id": "5830da5c",
   "metadata": {},
   "source": [
    "# 7. Least Squares\n",
    "\n",
    "Find the difference between the square of the sum and the sum of the squares of the first N natural numbers.\n",
    "\n",
    "The square of the sum of the first ten natural numbers is (1 + 2 + ... + 10)² = 55² = 3025.\n",
    "\n",
    "The sum of the squares of the first ten natural numbers is 1² + 2² + ... + 10² = 385.\n",
    "\n",
    "Hence the difference between the square of the sum of the first ten natural numbers and the sum of the squares of the first ten natural numbers is 3025 - 385 = 2640.\n",
    "\n",
    "You are not expected to discover an efficient solution to this yourself from first principles; research is allowed, indeed, encouraged. Finding the best algorithm for the problem is a key skill in software engineering."
   ]
  },
  {
   "cell_type": "code",
   "execution_count": 1,
   "id": "cb6b1550",
   "metadata": {},
   "outputs": [],
   "source": [
    "; we'll make a square function\n",
    "(define (square x)\n",
    "  (* x x))"
   ]
  },
  {
   "cell_type": "code",
   "execution_count": 2,
   "id": "835a41f8",
   "metadata": {},
   "outputs": [],
   "source": [
    "; now we need a function to get the first n natural numbers\n",
    "(define (firstn n aggregator)\n",
    "  (cond ((eq? n 1) (append (list n) aggregator))\n",
    "        (else (firstn (- n 1) (append (list n) aggregator)))))"
   ]
  },
  {
   "cell_type": "code",
   "execution_count": 3,
   "id": "562a4743",
   "metadata": {},
   "outputs": [
    {
     "data": {
      "text/plain": [
       "(1 2 3 4 5 6 7 8 9 10)"
      ]
     },
     "execution_count": 3,
     "metadata": {},
     "output_type": "execute_result"
    }
   ],
   "source": [
    "(firstn 10 '())"
   ]
  },
  {
   "cell_type": "code",
   "execution_count": 4,
   "id": "05cc2e9d",
   "metadata": {},
   "outputs": [],
   "source": [
    "; now a sum-of-squares\n",
    "(define (sum-of-squares n)\n",
    "  (sum (map square (firstn n '()))))"
   ]
  },
  {
   "cell_type": "code",
   "execution_count": 5,
   "id": "10d362a6",
   "metadata": {},
   "outputs": [
    {
     "data": {
      "text/plain": [
       "385"
      ]
     },
     "execution_count": 5,
     "metadata": {},
     "output_type": "execute_result"
    }
   ],
   "source": [
    "(sum-of-squares 10)"
   ]
  },
  {
   "cell_type": "code",
   "execution_count": 6,
   "id": "b0f5afda",
   "metadata": {},
   "outputs": [],
   "source": [
    "; now a square-of-sums\n",
    "(define (square-of-sums n)\n",
    "  (square (sum (firstn n '()))))"
   ]
  },
  {
   "cell_type": "code",
   "execution_count": 7,
   "id": "c856da83",
   "metadata": {},
   "outputs": [
    {
     "data": {
      "text/plain": [
       "3025"
      ]
     },
     "execution_count": 7,
     "metadata": {},
     "output_type": "execute_result"
    }
   ],
   "source": [
    "(square-of-sums 10)"
   ]
  },
  {
   "cell_type": "code",
   "execution_count": 8,
   "id": "9628b3e2",
   "metadata": {},
   "outputs": [],
   "source": [
    "; now lets get a difference of squares\n",
    "(define (difference-of-squares n)\n",
    "  (- (square-of-sums n) (sum-of-squares n)))"
   ]
  },
  {
   "cell_type": "code",
   "execution_count": 9,
   "id": "c90d3d0d",
   "metadata": {},
   "outputs": [
    {
     "data": {
      "text/plain": [
       "2640"
      ]
     },
     "execution_count": 9,
     "metadata": {},
     "output_type": "execute_result"
    }
   ],
   "source": [
    "(difference-of-squares 10)"
   ]
  },
  {
   "cell_type": "code",
   "execution_count": 10,
   "id": "b641d04f",
   "metadata": {},
   "outputs": [
    {
     "data": {
      "text/plain": [
       "1"
      ]
     },
     "execution_count": 10,
     "metadata": {},
     "output_type": "execute_result"
    }
   ],
   "source": [
    "(square-of-sums 1)"
   ]
  }
 ],
 "metadata": {
  "kernelspec": {
   "display_name": "Calysto Scheme 3",
   "language": "scheme",
   "name": "calysto_scheme"
  },
  "language_info": {
   "codemirror_mode": {
    "name": "scheme"
   },
   "mimetype": "text/x-scheme",
   "name": "scheme",
   "pygments_lexer": "scheme"
  }
 },
 "nbformat": 4,
 "nbformat_minor": 5
}
