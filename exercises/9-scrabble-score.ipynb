{
 "cells": [
  {
   "cell_type": "markdown",
   "id": "36e67c6e",
   "metadata": {},
   "source": [
    "# 8. Scrabble Score\n",
    "\n",
    "Given a word, compute the Scrabble score for that word.\n",
    "\n",
    "You'll need these:\n",
    "\n",
    "| Letter                           | Value |\n",
    "|----------------------------------|-------|\n",
    "|A, E, I, O, U, L, N, R, S, T      | 1     |\n",
    "|D, G                              | 2     |\n",
    "|B, C, M, P                        | 3     |\n",
    "|F, H, V, W, Y                     | 4     |\n",
    "|K                                 | 5     |\n",
    "|J, X                              | 8     |\n",
    "|Q, Z                              | 10    |"
   ]
  },
  {
   "cell_type": "code",
   "execution_count": 8,
   "id": "0a3db3d4",
   "metadata": {},
   "outputs": [],
   "source": [
    "; I guess the obvious first step is to calculate the score of a given letter\n",
    "; also, sigh, one of these days I'll right a \"to-upper\" and \"to-lower\" function for calysto scheme!\n",
    "(define (score letter)\n",
    "  (cond ((eq? letter #\\A) 1)\n",
    "        ((eq? letter #\\a) 1)\n",
    "        ((eq? letter #\\E) 1)\n",
    "        ((eq? letter #\\e) 1)\n",
    "        ((eq? letter #\\I) 1)\n",
    "        ((eq? letter #\\i) 1)\n",
    "        ((eq? letter #\\O) 1)\n",
    "        ((eq? letter #\\o) 1)\n",
    "        ((eq? letter #\\U) 1)\n",
    "        ((eq? letter #\\u) 1)\n",
    "        ((eq? letter #\\L) 1)\n",
    "        ((eq? letter #\\l) 1)\n",
    "        ((eq? letter #\\N) 1)\n",
    "        ((eq? letter #\\n) 1)\n",
    "        ((eq? letter #\\R) 1)\n",
    "        ((eq? letter #\\r) 1)\n",
    "        ((eq? letter #\\S) 1)\n",
    "        ((eq? letter #\\s) 1)\n",
    "        ((eq? letter #\\T) 1)\n",
    "        ((eq? letter #\\t) 1)\n",
    "        ((eq? letter #\\D) 2)\n",
    "        ((eq? letter #\\d) 2)\n",
    "        ((eq? letter #\\G) 2)\n",
    "        ((eq? letter #\\g) 2)\n",
    "        ((eq? letter #\\B) 3)\n",
    "        ((eq? letter #\\b) 3)\n",
    "        ((eq? letter #\\C) 3)\n",
    "        ((eq? letter #\\c) 3)\n",
    "        ((eq? letter #\\M) 3)\n",
    "        ((eq? letter #\\m) 3)\n",
    "        ((eq? letter #\\P) 3)\n",
    "        ((eq? letter #\\p) 3)\n",
    "        ((eq? letter #\\F) 4)\n",
    "        ((eq? letter #\\f) 4)\n",
    "        ((eq? letter #\\H) 4)\n",
    "        ((eq? letter #\\h) 4)\n",
    "        ((eq? letter #\\V) 4)\n",
    "        ((eq? letter #\\v) 4)\n",
    "        ((eq? letter #\\W) 4)\n",
    "        ((eq? letter #\\w) 4)\n",
    "        ((eq? letter #\\Y) 4)\n",
    "        ((eq? letter #\\y) 4)\n",
    "        ((eq? letter #\\K) 5)\n",
    "        ((eq? letter #\\k) 5)\n",
    "        ((eq? letter #\\J) 8)\n",
    "        ((eq? letter #\\j) 8)\n",
    "        ((eq? letter #\\X) 8)\n",
    "        ((eq? letter #\\x) 8)\n",
    "        ((eq? letter #\\Q) 10)\n",
    "        ((eq? letter #\\q) 10)\n",
    "        ((eq? letter #\\Z) 10)\n",
    "        ((eq? letter #\\z) 10)\n",
    "        (else 0)))"
   ]
  },
  {
   "cell_type": "code",
   "execution_count": 12,
   "id": "51b3eb43",
   "metadata": {},
   "outputs": [],
   "source": [
    "; phew! Now we just need to map a list of our string, then sum\n",
    "(define (scrabble-score word)\n",
    "  (sum (map score (string->list word))))"
   ]
  },
  {
   "cell_type": "code",
   "execution_count": 14,
   "id": "fab8d3de",
   "metadata": {},
   "outputs": [
    {
     "data": {
      "text/plain": [
       "8"
      ]
     },
     "execution_count": 14,
     "metadata": {},
     "output_type": "execute_result"
    }
   ],
   "source": [
    "(scrabble-score \"banana\")"
   ]
  },
  {
   "cell_type": "code",
   "execution_count": 15,
   "id": "2bcd20b4",
   "metadata": {},
   "outputs": [
    {
     "data": {
      "text/plain": [
       "14"
      ]
     },
     "execution_count": 15,
     "metadata": {},
     "output_type": "execute_result"
    }
   ],
   "source": [
    "(scrabble-score \"scrabble\")"
   ]
  },
  {
   "cell_type": "code",
   "execution_count": 16,
   "id": "35af0805",
   "metadata": {},
   "outputs": [
    {
     "data": {
      "text/plain": [
       "26"
      ]
     },
     "execution_count": 16,
     "metadata": {},
     "output_type": "execute_result"
    }
   ],
   "source": [
    "(scrabble-score \"quixotic\")"
   ]
  }
 ],
 "metadata": {
  "kernelspec": {
   "display_name": "Calysto Scheme 3",
   "language": "scheme",
   "name": "calysto_scheme"
  },
  "language_info": {
   "codemirror_mode": {
    "name": "scheme"
   },
   "mimetype": "text/x-scheme",
   "name": "scheme",
   "pygments_lexer": "scheme"
  }
 },
 "nbformat": 4,
 "nbformat_minor": 5
}
