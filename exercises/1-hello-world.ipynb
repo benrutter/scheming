{
 "cells": [
  {
   "cell_type": "code",
   "execution_count": 4,
   "id": "89aba213",
   "metadata": {},
   "outputs": [],
   "source": [
    "; Defining a function to return \"hello world!\"\n",
    "(define (hello-world)\n",
    "  \"hello world!\")"
   ]
  },
  {
   "cell_type": "code",
   "execution_count": 9,
   "id": "97b4fcc6",
   "metadata": {},
   "outputs": [
    {
     "data": {
      "text/plain": [
       "\"hello world!\""
      ]
     },
     "execution_count": 9,
     "metadata": {},
     "output_type": "execute_result"
    }
   ],
   "source": [
    "(hello-world)"
   ]
  }
 ],
 "metadata": {
  "kernelspec": {
   "display_name": "Calysto Scheme 3",
   "language": "scheme",
   "name": "calysto_scheme"
  },
  "language_info": {
   "codemirror_mode": {
    "name": "scheme"
   },
   "mimetype": "text/x-scheme",
   "name": "scheme",
   "pygments_lexer": "scheme"
  }
 },
 "nbformat": 4,
 "nbformat_minor": 5
}
