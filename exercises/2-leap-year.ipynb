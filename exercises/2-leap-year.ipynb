{
 "cells": [
  {
   "cell_type": "code",
   "execution_count": 31,
   "id": "a786e953",
   "metadata": {},
   "outputs": [],
   "source": [
    "; we'll start with a convenience function for divides by\n",
    "(define (divides-by? x y)\n",
    "  (eq? (modulo x y) 0))"
   ]
  },
  {
   "cell_type": "code",
   "execution_count": 32,
   "id": "1e230538",
   "metadata": {},
   "outputs": [],
   "source": [
    "; given a year, is it a leap year?\n",
    "; if it is divisible by four, and not 100 (unless it's also divisible by 400)\n",
    "(define (leap-year? year)\n",
    "  (or (divides-by? year 400)\n",
    "      (and\n",
    "       (divides-by? year 4)\n",
    "       (not (divides-by? year 100)))))"
   ]
  },
  {
   "cell_type": "code",
   "execution_count": 42,
   "id": "a3691762",
   "metadata": {},
   "outputs": [
    {
     "name": "stdout",
     "output_type": "stream",
     "text": [
      "FalseFalseFalseFalseFalseTrueTrueFalse"
     ]
    }
   ],
   "source": [
    "(display (leap-year? 2015))\n",
    "(display (leap-year? 1970))\n",
    "(display (leap-year? 1966))\n",
    "(display (leap-year? 2100))\n",
    "(display (leap-year? 1900))\n",
    "(display (leap-year? 2000))\n",
    "(display (leap-year? 2400))\n",
    "(display (leap-year? 1800))"
   ]
  }
 ],
 "metadata": {
  "kernelspec": {
   "display_name": "Calysto Scheme 3",
   "language": "scheme",
   "name": "calysto_scheme"
  },
  "language_info": {
   "codemirror_mode": {
    "name": "scheme"
   },
   "mimetype": "text/x-scheme",
   "name": "scheme",
   "pygments_lexer": "scheme"
  }
 },
 "nbformat": 4,
 "nbformat_minor": 5
}
